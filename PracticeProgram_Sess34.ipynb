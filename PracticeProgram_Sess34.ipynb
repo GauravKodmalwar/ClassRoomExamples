{
 "cells": [
  {
   "cell_type": "markdown",
   "metadata": {},
   "source": [
    "<h3> 1.\tWhat is the output of the following code? \n",
    "nums = set([1,1,2,3,3,3,4,4]) print(len(nums)) </h3>\n"
   ]
  },
  {
   "cell_type": "code",
   "execution_count": 1,
   "metadata": {},
   "outputs": [
    {
     "name": "stdout",
     "output_type": "stream",
     "text": [
      "4\n"
     ]
    }
   ],
   "source": [
    "nums = set([1,1,2,3,3,3,4,4]) \n",
    "\n",
    "print(len(nums))"
   ]
  },
  {
   "cell_type": "markdown",
   "metadata": {},
   "source": [
    "<h3> 2.\tWhat will be the output? \n",
    "d = {\"john\":40, \"peter\":45} \n",
    "print(list(d.keys())) \n",
    "</h3>"
   ]
  },
  {
   "cell_type": "code",
   "execution_count": 2,
   "metadata": {},
   "outputs": [
    {
     "name": "stdout",
     "output_type": "stream",
     "text": [
      "['john', 'peter']\n"
     ]
    }
   ],
   "source": [
    "d = {\"john\":40, \"peter\":45} \n",
    "print(list(d.keys())) \n"
   ]
  },
  {
   "cell_type": "markdown",
   "metadata": {},
   "source": [
    "<h3> \n",
    "3.\tA website requires a user to input username and password to register. Write a program to check the validity of password given by user. <br>\n",
    "</h3><h4>\n",
    "Following are the criteria for checking password: <br>\n",
    "1. At least 1 letter between [a-z] <br>\n",
    "2. At least 1 number between [0-9] <br>\n",
    "1. At least 1 letter between [A-Z] <br>\n",
    "3. At least 1 character from [$#@] <br>\n",
    "4. Minimum length of transaction password: 6 <br>\n",
    "5. Maximum length of transaction password: 12 <br>\n",
    "</h4>"
   ]
  },
  {
   "cell_type": "code",
   "execution_count": null,
   "metadata": {},
   "outputs": [],
   "source": [
    "#success = re.search(,password) #re.findall('\\w+', password)\n",
    "#success\n",
    "\n",
    "#for i in password:\n",
    "#    if i.isalnum():\n",
    "#        break\n",
    "#    elif i.islower():\n",
    "#        break\n",
    "#    elif i.isupper():\n",
    "#        break\n",
    "#    elif (len(password) > 12) or (len(password) < 6):\n",
    "#        print(\"Password length should be betweeen 6 - 12 characters + number\")\n",
    "#    else:\n",
    "#        print(\"password is valid\")\n",
    "\n",
    "#i f (len(password) < 13) and (len(password)> 5):\n",
    "    #    if password.isalnum():\n",
    "#    else:\n",
    "        print('Password should be minimum 6 and maximum 12 characters\\numbers')\n",
    "#        if (not password.islower()) and (not password.isupper()):\n",
    "#            print(\"password is valid\")\n",
    "#        else:\n",
    "#            print(\"password should contain atleast one capital and small letter\")\n",
    "#    else:\n",
    "#        print(\"password should be alphanumeric\")\n",
    "#if(fail)\n",
    "#else:\n",
    "#    print(\"password should be minimum 6 and maximum 12 in size\")"
   ]
  },
  {
   "cell_type": "code",
   "execution_count": 88,
   "metadata": {},
   "outputs": [
    {
     "name": "stdin",
     "output_type": "stream",
     "text": [
      "Please enter username dgads\n",
      "Please enter password dgd$3gG\n"
     ]
    },
    {
     "name": "stdout",
     "output_type": "stream",
     "text": [
      "<b> Password is valid </b>\n"
     ]
    }
   ],
   "source": [
    "import re as re\n",
    "\n",
    "username = input('Please enter username')\n",
    "password = input('Please enter password')\n",
    "patterns = ['[0-9]', '[a-z]', '[A-Z]', '[$#@]']\n",
    "\n",
    "if len(password) < 13 and len(password)> 5:\n",
    "    failed = 0\n",
    "    for pattern in patterns:\n",
    "        state = re.search(pattern, password)        \n",
    "        if(state == None):\n",
    "            failed = 1\n",
    "            \n",
    "    if(failed==1):\n",
    "        print('Password should contain at least 1 lower, 1 upper, 1 numeric and 1 special character')\n",
    "    else:\n",
    "        print('Password is valid')            \n",
    "        \n",
    "else:\n",
    "    print('Password should be minimum 6 and maximum 12 characters numbers') \n"
   ]
  },
  {
   "cell_type": "markdown",
   "metadata": {},
   "source": [
    "<h4> 4.\tWrite a for loop that prints all elements of a list and their position in the list. \n",
    "a = [4,7,3,2,5,9] </h4>\n"
   ]
  },
  {
   "cell_type": "code",
   "execution_count": 102,
   "metadata": {},
   "outputs": [
    {
     "name": "stdout",
     "output_type": "stream",
     "text": [
      "{0: 4, 1: 7, 2: 3, 3: 2, 4: 5, 5: 9}\n"
     ]
    }
   ],
   "source": [
    "a = [4,7,3,2,5,9]\n",
    "b = {a.index(k) : k for k in a}\n",
    "\n",
    "print(b)"
   ]
  },
  {
   "cell_type": "markdown",
   "metadata": {},
   "source": [
    "<h3>\n",
    "5.\tPlease write a program which accepts a string from console and print the characters that have even indexes. \n",
    "</h3>"
   ]
  },
  {
   "cell_type": "code",
   "execution_count": 142,
   "metadata": {},
   "outputs": [
    {
     "name": "stdout",
     "output_type": "stream",
     "text": [
      "HelloWorld\n"
     ]
    }
   ],
   "source": [
    "a5 = 'H1e2l3l4o5W6o7r8l9d'\n",
    "b5 = [k5 for k5 in a5 if a5.index(k5)%2 == 0]\n",
    "c5 = ''\n",
    "\n",
    "for x5 in b5:\n",
    "    c5 += x5\n",
    "\n",
    "print(c5)"
   ]
  },
  {
   "cell_type": "markdown",
   "metadata": {},
   "source": [
    "<h3>\n",
    "6.\tPlease write a program which accepts a string from console and print it in reverse order. \n",
    "</h3>"
   ]
  },
  {
   "cell_type": "code",
   "execution_count": 148,
   "metadata": {},
   "outputs": [
    {
     "name": "stdin",
     "output_type": "stream",
     "text": [
      "Enter a string to reverse:  Gaurav\n"
     ]
    },
    {
     "name": "stdout",
     "output_type": "stream",
     "text": [
      "varuaG\n"
     ]
    }
   ],
   "source": [
    "a6 = input('Enter a string to reverse: ')\n",
    "\n",
    "print(a6[::-1])"
   ]
  },
  {
   "cell_type": "markdown",
   "metadata": {},
   "source": [
    "<h3>\n",
    "7.\tPlease write a program which count and print the numbers of each character in a string input by user. \n",
    "</h3>"
   ]
  },
  {
   "cell_type": "code",
   "execution_count": 153,
   "metadata": {},
   "outputs": [
    {
     "data": {
      "text/plain": [
       "{'D': 5, 'f': 1, 'e': 2, 'g': 1, 'F': 2, 'G': 2, 'E': 1}"
      ]
     },
     "execution_count": 153,
     "metadata": {},
     "output_type": "execute_result"
    }
   ],
   "source": [
    "a7 = \"DfegDeFDGGDEFD\"\n",
    "b7 = {}\n",
    "\n",
    "for k7 in a7:\n",
    "    b7.setdefault(k7,0)\n",
    "    b7[k7] += 1\n",
    "\n",
    "b7"
   ]
  },
  {
   "cell_type": "markdown",
   "metadata": {},
   "source": [
    "<h3>\n",
    "8.\tWith two given lists [1,3,6,78,35,55] and [12,24,35,24,88,120,155], write a program to make a list whose elements are intersection of the above given lists.\n",
    "</h3>"
   ]
  },
  {
   "cell_type": "code",
   "execution_count": 169,
   "metadata": {},
   "outputs": [
    {
     "name": "stdout",
     "output_type": "stream",
     "text": [
      "intersection of two sets are {35}\n"
     ]
    }
   ],
   "source": [
    "a8 = {1,3,6,78,35,55}\n",
    "b8 = {12,24,35,24,88,120,155}\n",
    "\n",
    "c8 = a8.intersection(b8)\n",
    "\n",
    "print(\"intersection of two sets are {}\" .format(c8))"
   ]
  },
  {
   "cell_type": "markdown",
   "metadata": {},
   "source": [
    "<h3>\n",
    "9.\tBy using list comprehension, please write a program to print the list after removing the value 24 in [12,24,35,24,88,120,155]. \n",
    "</h3>"
   ]
  },
  {
   "cell_type": "code",
   "execution_count": 170,
   "metadata": {},
   "outputs": [
    {
     "data": {
      "text/plain": [
       "[12, 35, 88, 120, 155]"
      ]
     },
     "execution_count": 170,
     "metadata": {},
     "output_type": "execute_result"
    }
   ],
   "source": [
    "a9 = [12,24,35,24,88,120,155]\n",
    "\n",
    "b9 = [k9 for k9 in a9 if k9!= 24]\n",
    "\n",
    "b9"
   ]
  },
  {
   "cell_type": "markdown",
   "metadata": {},
   "source": [
    "<h3>\n",
    "10.\tBy using list comprehension, please write a program to print the list after removing the 0th,4th,5th numbers in \n",
    "[12,24,35,70,88,120,155]. \n",
    "</h3>"
   ]
  },
  {
   "cell_type": "code",
   "execution_count": 198,
   "metadata": {},
   "outputs": [
    {
     "name": "stdout",
     "output_type": "stream",
     "text": [
      "Incorrect output with or  [12, 24, 35, 70, 88, 120, 155]\n",
      "Correct output with sequential if condition [24, 35, 70, 155]\n"
     ]
    }
   ],
   "source": [
    "a10 = [12,24,35,70,88,120,155]\n",
    "\n",
    "b10 = [k for k in a10 if (k != a10[0])  or (k != a10[4]) or (k != a10[5])]\n",
    "\n",
    "print(\"Incorrect output with or \", b10)\n",
    "\n",
    "b10_1 = [k for k in a10 if (k != a10[0])]\n",
    "b10_1 = [k for k in b10_1 if (k != b10_1[3])]\n",
    "b10_1 = [k for k in b10_1 if (k != b10_1[3])]\n",
    "\n",
    "print(\"Correct output with sequential if condition\", b10_1)"
   ]
  },
  {
   "cell_type": "markdown",
   "metadata": {},
   "source": [
    "<h3>\n",
    "11.\tBy using list comprehension, please write a program to print the list after removing delete numbers which are divisible by 5 and 7 in \n",
    "[12,24,35,70,88,120,155]. \n",
    "</h3>"
   ]
  },
  {
   "cell_type": "code",
   "execution_count": 199,
   "metadata": {},
   "outputs": [
    {
     "data": {
      "text/plain": [
       "[12, 24, 88, 120, 155]"
      ]
     },
     "execution_count": 199,
     "metadata": {},
     "output_type": "execute_result"
    }
   ],
   "source": [
    "a11 = [12,24,35,70,88,120,155]\n",
    "\n",
    "b11 = [k for k in a11 if(k%7 != 0 and k%5 != 5)]\n",
    "\n",
    "b11"
   ]
  },
  {
   "cell_type": "markdown",
   "metadata": {},
   "source": [
    "<h3>\n",
    "12.\tWrite a program to compute 1/2+2/3+3/4+...+n/n+1 with a given n input by user (n>0). Example: If the following n is given as input to the program: \n",
    "5 \n",
    "Then, the output of the program should be: \n",
    "3.55\n",
    "</h3>"
   ]
  },
  {
   "cell_type": "code",
   "execution_count": 219,
   "metadata": {},
   "outputs": [
    {
     "name": "stdin",
     "output_type": "stream",
     "text": [
      "provide a number greater than 0 5\n"
     ]
    },
    {
     "data": {
      "text/plain": [
       "3.5500000000000003"
      ]
     },
     "execution_count": 219,
     "metadata": {},
     "output_type": "execute_result"
    }
   ],
   "source": [
    "a12 = int(input('provide a number greater than 0'))\n",
    "\n",
    "b12 = [k/(k+1) for k in range(1,a12+1)]\n",
    "c12 = 0\n",
    "\n",
    "for x in b12:\n",
    "    c12 += x\n",
    "\n",
    "c12"
   ]
  },
  {
   "cell_type": "markdown",
   "metadata": {},
   "source": [
    "<h3>\n",
    "13.\tWrite a program which will find factors of given number and find whether the factor is even or odd. \n",
    "Hint: Use Loop with if-else statements \n",
    "</h3>"
   ]
  },
  {
   "cell_type": "code",
   "execution_count": 28,
   "metadata": {},
   "outputs": [
    {
     "data": {
      "text/plain": [
       "{'Even': [2, 38], 'Odds': [1, 19]}"
      ]
     },
     "execution_count": 28,
     "metadata": {},
     "output_type": "execute_result"
    }
   ],
   "source": [
    "a13 = 38\n",
    "\n",
    "b13 = [k for k in range(1, a13+1) if a13%k == 0]\n",
    "\n",
    "c13 = list(filter(lambda k:k%2 == 0, b13))\n",
    "d13 = list(filter(lambda k:k%2 != 0, b13))\n",
    "e13 = {\"Even\": c13, \"Odds\": d13}\n",
    "\n",
    "e13"
   ]
  },
  {
   "cell_type": "markdown",
   "metadata": {},
   "source": [
    "<h3> 14.\tWrite a code which accepts a sequence of words as input and prints the words in a sequence after sorting them alphabetically. \n",
    "Hint: In case of input data being supplied to the question, it should be assumed to be a user input. </h3>"
   ]
  },
  {
   "cell_type": "code",
   "execution_count": 36,
   "metadata": {},
   "outputs": [
    {
     "name": "stdout",
     "output_type": "stream",
     "text": [
      "Sorted output is here: ['Acadgild', 'Gaurav', 'This', 'class', 'from', 'in', 'is']\n"
     ]
    }
   ],
   "source": [
    "a14 = \"This is Gaurav in class from Acadgild\"\n",
    "\n",
    "b14 = a14.split(\" \")\n",
    "b14.sort()\n",
    "print('Sorted output is here: {}'.format(b14))"
   ]
  },
  {
   "cell_type": "markdown",
   "metadata": {},
   "source": [
    "<h3> 15.\tWrite a program, which will find all the numbers between 1000 and 3000 (both included) such that each digit of a number is an even number. The numbers obtained should be printed in a comma separated sequence on a single line. \n",
    "Hint: In case of input data being supplied to the question, it should be assumed to be a user input. Divide each digit with 2 and verify is it even or not. </h3>"
   ]
  },
  {
   "cell_type": "code",
   "execution_count": 71,
   "metadata": {},
   "outputs": [
    {
     "name": "stdout",
     "output_type": "stream",
     "text": [
      "List of numbers between 1000 an 3000 whose all digits are even are: 2000,2002,2004,2006,2008,2020,2022,2024,2026,2028,2040,2042,2044,2046,2048,2060,2062,2064,2066,2068,2080,2082,2084,2086,2088,2200,2202,2204,2206,2208,2220,2222,2224,2226,2228,2240,2242,2244,2246,2248,2260,2262,2264,2266,2268,2280,2282,2284,2286,2288,2400,2402,2404,2406,2408,2420,2422,2424,2426,2428,2440,2442,2444,2446,2448,2460,2462,2464,2466,2468,2480,2482,2484,2486,2488,2600,2602,2604,2606,2608,2620,2622,2624,2626,2628,2640,2642,2644,2646,2648,2660,2662,2664,2666,2668,2680,2682,2684,2686,2688,2800,2802,2804,2806,2808,2820,2822,2824,2826,2828,2840,2842,2844,2846,2848,2860,2862,2864,2866,2868,2880,2882,2884,2886,2888\n"
     ]
    }
   ],
   "source": [
    "def isEvenNo(number):\n",
    "    number2 = str(number)    \n",
    "    a = [int(k)%2 == 0 for k in number2]\n",
    "    return not (False in a)\n",
    "    \n",
    "a15 = filter(isEvenNo, range(1000, 3001))\n",
    "a15 = map(str,a15)\n",
    "\n",
    "print(\"List of numbers between 1000 an 3000 whose all digits are even are: \" + \",\".join(a15))"
   ]
  },
  {
   "cell_type": "markdown",
   "metadata": {},
   "source": [
    "<h3> 16.\tWrite a program that accepts a sentence and calculate the number of letters and digits. Suppose if the entered string is: Python0325 \n",
    "Then the output will be: \n",
    "LETTERS: 6 \n",
    "DIGITS:4 \n",
    "Hint: Use built-in functions of string. </h3>"
   ]
  },
  {
   "cell_type": "code",
   "execution_count": 98,
   "metadata": {},
   "outputs": [
    {
     "name": "stdin",
     "output_type": "stream",
     "text": [
      "Provide a alpha numeric input:  Hi, This is Gaurav and I am 35 years young. I passed out in 2005\n"
     ]
    },
    {
     "name": "stdout",
     "output_type": "stream",
     "text": [
      "Number of digits are 6\n",
      "Number of digits are 44\n"
     ]
    }
   ],
   "source": [
    "a16 = input(\"Provide a alpha numeric input: \")\n",
    "b16 = a16.split(\" \")\n",
    "Digits, Letters = 0,0\n",
    "\n",
    "for k in b16:    \n",
    "    for x in k:        \n",
    "        try:\n",
    "            int(x)\n",
    "            Digits = Digits + 1\n",
    "        except ValueError:\n",
    "            Letters = Letters + 1\n",
    "    \n",
    "print(\"Number of digits are {}\".format(Digits))\n",
    "print(\"Number of digits are {}\".format(Letters))"
   ]
  },
  {
   "cell_type": "markdown",
   "metadata": {},
   "source": [
    "<h3>\n",
    "17.\tDesign a code which will find the given number is Palindrome number or not. \n",
    "Hint: Use built-in functions of string.\n",
    "</h3>"
   ]
  },
  {
   "cell_type": "code",
   "execution_count": 96,
   "metadata": {},
   "outputs": [
    {
     "name": "stdin",
     "output_type": "stream",
     "text": [
      "Provide a numeric input:  1001\n"
     ]
    },
    {
     "name": "stdout",
     "output_type": "stream",
     "text": [
      "1001 number is a palindrome\n"
     ]
    }
   ],
   "source": [
    "a17 = input(\"Provide a numeric input: \")\n",
    "\n",
    "if(a17[::-1] == a17):\n",
    "    print(\"{} number is a palindrome\".format(a17))\n",
    "else:\n",
    "    print(\"{} number is not a palindrome\".format(a17))"
   ]
  },
  {
   "cell_type": "code",
   "execution_count": null,
   "metadata": {},
   "outputs": [],
   "source": [
    "dir(str)"
   ]
  }
 ],
 "metadata": {
  "kernelspec": {
   "display_name": "Python 3",
   "language": "python",
   "name": "python3"
  },
  "language_info": {
   "codemirror_mode": {
    "name": "ipython",
    "version": 3
   },
   "file_extension": ".py",
   "mimetype": "text/x-python",
   "name": "python",
   "nbconvert_exporter": "python",
   "pygments_lexer": "ipython3",
   "version": "3.7.1"
  }
 },
 "nbformat": 4,
 "nbformat_minor": 2
}
