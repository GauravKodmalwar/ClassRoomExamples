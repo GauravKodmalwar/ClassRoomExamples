{
 "cells": [
  {
   "cell_type": "markdown",
   "metadata": {},
   "source": [
    "<h1> Functions </h1>"
   ]
  },
  {
   "cell_type": "markdown",
   "metadata": {},
   "source": [
    "<h3> 1.\tWrite a Python function that takes a list and returns a new list with unique elements of the first list.  \n",
    "Sample List : [1,2,3,3,3,3,4,5]\n",
    "Unique List : [1, 2, 3, 4, 5]\n",
    "</h3>"
   ]
  },
  {
   "cell_type": "code",
   "execution_count": 1,
   "metadata": {},
   "outputs": [
    {
     "name": "stdout",
     "output_type": "stream",
     "text": [
      "{1, 2, 3, 4, 5}\n"
     ]
    }
   ],
   "source": [
    "a1 = [1,2,3,3,3,3,4,5]\n",
    "b1 = set()\n",
    "\n",
    "\"\"\"def existsOrNot(a):\n",
    "    return not (a in b1)\n",
    "\n",
    "b1 = filter(existsOrNot, a1)\n",
    "\n",
    "for k in b1:\n",
    "    print(k)\"\"\"\n",
    "\n",
    "for k in a1:\n",
    "    b1.add(k)\n",
    "\n",
    "print(b1)"
   ]
  },
  {
   "cell_type": "markdown",
   "metadata": {},
   "source": [
    "<h3> 2.\tWrite a Python program to print the even numbers from a given list. \n",
    "Sample List : [1, 2, 3, 4, 5, 6, 7, 8, 9] \n",
    "Expected Result : [2, 4, 6, 8]\n",
    "</h3>"
   ]
  },
  {
   "cell_type": "code",
   "execution_count": 19,
   "metadata": {},
   "outputs": [
    {
     "name": "stdout",
     "output_type": "stream",
     "text": [
      "Even values from the list are: 2,4,6,8\n"
     ]
    }
   ],
   "source": [
    "a2=[1, 2, 3, 4, 5, 6, 7, 8, 9]\n",
    "temp = \"\"\n",
    "\n",
    "def isEven(k):\n",
    "    return k%2==0\n",
    "\n",
    "b2 = filter(isEven, a2)\n",
    "\n",
    "for k in b2:\n",
    "    temp = temp + \",\" + (str(k))\n",
    "    \n",
    "print(\"Even values from the list are: \" + temp.strip(\",\"))"
   ]
  },
  {
   "cell_type": "markdown",
   "metadata": {},
   "source": [
    "<h3>\n",
    "3.\tWrite a Python program that accepts a hyphen-separated sequence of words as input and prints the words in a hyphen-separated sequence after sorting them alphabetically.  \n",
    "Sample Items : green-red-yellow-black-white\n",
    "Expected Result : black-green-red-white-yellow\n",
    "</h3>"
   ]
  },
  {
   "cell_type": "code",
   "execution_count": 27,
   "metadata": {},
   "outputs": [
    {
     "name": "stdout",
     "output_type": "stream",
     "text": [
      "Sorted string with hyphen as separator is here: black-green-red-white-yellow\n"
     ]
    }
   ],
   "source": [
    "a3 = 'green-red-yellow-black-white'\n",
    "\n",
    "def stringSort(k):\n",
    "    b3 = k.split(\"-\")\n",
    "    b3.sort()\n",
    "    print(\"Sorted string with hyphen as separator is here: \" + \"-\".join(b3))\n",
    "    \n",
    "stringSort(a3)"
   ]
  },
  {
   "cell_type": "markdown",
   "metadata": {},
   "source": [
    "<h3>\n",
    "4.\tWrite a Python function to multiply all the numbers in a list. \n",
    " Sample List : (8, 2, 3, -1, 7)\n",
    "Expected Output : -336\n",
    "</h3>"
   ]
  },
  {
   "cell_type": "code",
   "execution_count": 107,
   "metadata": {},
   "outputs": [
    {
     "data": {
      "text/plain": [
       "-336"
      ]
     },
     "execution_count": 107,
     "metadata": {},
     "output_type": "execute_result"
    }
   ],
   "source": [
    "import functools\n",
    "\n",
    "a44 = (8, 2, 3, -1, 7)\n",
    "\n",
    "def multiplyList(a):\n",
    "    return functools.reduce(lambda x,y: x*y, a)\n",
    "\n",
    "multiplyList(a44)"
   ]
  },
  {
   "cell_type": "markdown",
   "metadata": {},
   "source": [
    "<h1>\n",
    "Classes\n",
    "</h1>"
   ]
  },
  {
   "cell_type": "markdown",
   "metadata": {},
   "source": [
    "<h3>\n",
    "4.\tWrite a Python class to get all possible unique subsets from a set of distinct integers. \n",
    "Input : [4, 5, 6]\n",
    "Output : [[], [4], [5], [6], [5, 6], [4, 6], [4, 5], [4, 5, 6]]\n",
    "</h3>"
   ]
  },
  {
   "cell_type": "code",
   "execution_count": 30,
   "metadata": {},
   "outputs": [
    {
     "ename": "IndexError",
     "evalue": "list index out of range",
     "output_type": "error",
     "traceback": [
      "\u001b[1;31m---------------------------------------------------------------------------\u001b[0m",
      "\u001b[1;31mIndexError\u001b[0m                                Traceback (most recent call last)",
      "\u001b[1;32m<ipython-input-30-1375366fbff0>\u001b[0m in \u001b[0;36m<module>\u001b[1;34m\u001b[0m\n\u001b[0;32m      1\u001b[0m \u001b[0ma4\u001b[0m \u001b[1;33m=\u001b[0m \u001b[1;33m[\u001b[0m\u001b[1;36m4\u001b[0m\u001b[1;33m,\u001b[0m \u001b[1;36m5\u001b[0m\u001b[1;33m,\u001b[0m \u001b[1;36m6\u001b[0m\u001b[1;33m]\u001b[0m\u001b[1;33m\u001b[0m\u001b[1;33m\u001b[0m\u001b[0m\n\u001b[0;32m      2\u001b[0m \u001b[1;33m\u001b[0m\u001b[0m\n\u001b[1;32m----> 3\u001b[1;33m \u001b[0ma4\u001b[0m\u001b[1;33m[\u001b[0m\u001b[1;36m3\u001b[0m\u001b[1;33m]\u001b[0m\u001b[1;33m\u001b[0m\u001b[1;33m\u001b[0m\u001b[0m\n\u001b[0m",
      "\u001b[1;31mIndexError\u001b[0m: list index out of range"
     ]
    }
   ],
   "source": [
    "a4 = [4, 5, 6]\n",
    "\n",
    "a4.    "
   ]
  },
  {
   "cell_type": "markdown",
   "metadata": {},
   "source": [
    "<h3>\n",
    "5.\tWrite a Python class which has two methods get_String and print_String. get_String accept a string from the user and print_String print the string in upper case.\n",
    "</h3>"
   ]
  },
  {
   "cell_type": "code",
   "execution_count": 34,
   "metadata": {},
   "outputs": [
    {
     "name": "stdout",
     "output_type": "stream",
     "text": [
      "Printing string returned by a Class method: Gaurav\n",
      "Printing string from method of a Class: Gaurav\n"
     ]
    }
   ],
   "source": [
    "class StringOperations():\n",
    "    def __init__(self, defaultString='None'):\n",
    "        self.defaultString = defaultString\n",
    "    \n",
    "    def get_String(self):\n",
    "        return self.defaultString\n",
    "    \n",
    "    def set_String(self, defaultString):\n",
    "        self.defaultString = defaultString\n",
    "        \n",
    "    def print_String(self):\n",
    "        print(\"Printing string from method of a Class: \" + self.defaultString)\n",
    "\n",
    "strObj1 = StringOperations(\"Gaurav\")\n",
    "temp = strObj1.get_String();\n",
    "print(\"Printing string returned by a Class method: \" + temp)\n",
    "\n",
    "strObj1.print_String()"
   ]
  },
  {
   "cell_type": "markdown",
   "metadata": {},
   "source": [
    "<h1>\n",
    "Files\n",
    "</h1>"
   ]
  },
  {
   "cell_type": "markdown",
   "metadata": {},
   "source": [
    "<h3>\n",
    "6.\tWrite a Python program to read first n lines of a file. \n",
    "</h3>"
   ]
  },
  {
   "cell_type": "code",
   "execution_count": 53,
   "metadata": {},
   "outputs": [
    {
     "name": "stdout",
     "output_type": "stream",
     "text": [
      "1,P2,2\n",
      "\n",
      "1,P1,1\n",
      "\n",
      "2,P3,2\n",
      "\n",
      "3,P4,1\n",
      "\n",
      "4,P2,1\n",
      "\n"
     ]
    }
   ],
   "source": [
    "a6 = 5\n",
    "b6 = 'productOrder.csv'\n",
    "\n",
    "def readLinesFromFiles(x, b):\n",
    "    i = 0    \n",
    "    try:\n",
    "        a = open(x)\n",
    "        while(i < b):            \n",
    "            f = a.readline()\n",
    "            if(f!=\"\"):\n",
    "                print(f)\n",
    "                i = i + 1\n",
    "            else:\n",
    "                print(\"Maximum lines in file are {}\".format(i))\n",
    "                break\n",
    "    except FileNotFoundError:\n",
    "        print(\"{} file doesn't exists\".format(x))\n",
    "\n",
    "readLinesFromFiles(b6, 5)            "
   ]
  },
  {
   "cell_type": "markdown",
   "metadata": {},
   "source": [
    "<h3>\n",
    "7.\tWrite a python program to find the longest words.\n",
    "</h3>"
   ]
  },
  {
   "cell_type": "code",
   "execution_count": 83,
   "metadata": {},
   "outputs": [
    {
     "name": "stdout",
     "output_type": "stream",
     "text": [
      "Longest word in a file is 'user-friendly' \n"
     ]
    }
   ],
   "source": [
    "import functools\n",
    "\n",
    "a7 = open('WordCount.txt')\n",
    "b7 = a7.readlines()\n",
    "c7 = list()\n",
    "\n",
    "def findLongestString(a, b):\n",
    "    a = a.strip(\".\").strip(\",\").strip(\"\\n\")\n",
    "    b = b.strip(\".\").strip(\",\").strip(\"\\n\")\n",
    "    \n",
    "    if(len(a) > len(b)):\n",
    "        return a\n",
    "    else:\n",
    "        return b\n",
    "\n",
    "for k in b7:  \n",
    "    temp = functools.reduce(findLongestString, k.split(\" \"))\n",
    "    c7.append(temp)\n",
    "\n",
    "temp = functools.reduce(findLongestString, c7)\n",
    "print(\"Longest word in a file is '{}' \".format(temp))"
   ]
  },
  {
   "cell_type": "markdown",
   "metadata": {},
   "source": [
    "<h3>\n",
    "8.\tWrite a Python program to copy the contents of a file to another file \n",
    "</h3>"
   ]
  },
  {
   "cell_type": "code",
   "execution_count": 104,
   "metadata": {},
   "outputs": [
    {
     "name": "stdout",
     "output_type": "stream",
     "text": [
      "File written successfully\n"
     ]
    }
   ],
   "source": [
    "inputF = 'WordCount.txt'\n",
    "outputF = 'WordCountOutput.txt'\n",
    "\n",
    "try:\n",
    "    b8 = open(inputF)\n",
    "    c8 = open(outputF, 'w+')\n",
    "    temp = b8.readline()\n",
    "    while(temp != \"\"):\n",
    "        c8.write(temp)\n",
    "        temp = b8.readline()\n",
    "    if(b8.tell() == c8.tell()):\n",
    "        print(\"File written successfully\")\n",
    "except:\n",
    "    print(\"Unable to open a file or unable to read\\write to a file\")"
   ]
  }
 ],
 "metadata": {
  "kernelspec": {
   "display_name": "Python 3",
   "language": "python",
   "name": "python3"
  },
  "language_info": {
   "codemirror_mode": {
    "name": "ipython",
    "version": 3
   },
   "file_extension": ".py",
   "mimetype": "text/x-python",
   "name": "python",
   "nbconvert_exporter": "python",
   "pygments_lexer": "ipython3",
   "version": "3.7.1"
  }
 },
 "nbformat": 4,
 "nbformat_minor": 2
}
